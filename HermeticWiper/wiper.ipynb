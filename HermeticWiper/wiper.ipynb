{
 "cells": [
  {
   "cell_type": "markdown",
   "id": "03750185-dad2-47ce-bd7f-2aca039b3ce7",
   "metadata": {},
   "source": [
    "# Hermetic Wiper\n",
    "\n",
    "Sample: `1bc44eef75779e3ca1eefb8ff5a64807dbc942b1e4a2672d77b9f6928d292591`\n",
    "\n",
    "\n",
    "\n",
    "## References\n",
    "- [Sample on Malshare](https://malshare.com/sample.php?action=detail&hash=1bc44eef75779e3ca1eefb8ff5a64807dbc942b1e4a2672d77b9f6928d292591)\n",
    "- [J. A. Guerrero-Saade Twitter Thread](https://twitter.com/juanandres_gs/status/1496581710368358400?s=20&t=tuoQe510ow0HmQNbEXQimQ)\n",
    "- [ESET Twitter Thread](https://twitter.com/ESETresearch/status/1496581903205511181?s=20&t=tuoQe510ow0HmQNbEXQimQ)\n",
    "- [CrowdStrike Blog](https://www.crowdstrike.com/blog/how-crowdstrike-falcon-protects-against-wiper-malware-used-in-ukraine-attacks/)\n",
    "- [SentinalOne Blog](https://www.sentinelone.com/labs/hermetic-wiper-ukraine-under-attack/)\n",
    "\n",
    "## Backstory\n",
    "- Wiper binary is signed using a code signing certificate issued to Wiper binary is signed using a code signing certificate issued to **Hermetica Digital Ltd** \n",
    "- Wiper abuses legitimate drivers from the **EaseUS Partition Master**\n",
    "- Modifying CrashControl regkey, [CrashDumpEnabled](https://docs.microsoft.com/en-us/windows/client-management/system-failure-recovery-options#under-write-debugging-information) key to 0\n",
    "- Enumerating PhysicalDrives up to 100 - can you even have 100 drives??\n",
    "\n",
    "## Abused Legit Drivers\n",
    "The following legit drivers are stored in the resources section of the PE. They are compressed.\n",
    "- RCDATA_DRV_X64 (mscompress) e5f3ef69a534260e899a36cec459440dc572388defd8f1d98760d31c700f42d5\n",
    "- RCDATA_DRV_X86 (mscompress) b01e0c6ac0b8bcde145ab7b68cf246deea9402fa7ea3aede7105f7051fe240c1\n",
    "- RCDATA_DRV_XP_X64 (mscompress) b6f2e008967c5527337448d768f2332d14b92de22a1279fd4d91000bb3d4a0fd\n",
    "- RCDATA_DRV_XP_X86 (mscompress) fd7eacc2f87aceac865b0aa97a50503d44b799f27737e009f91f3c281233c17d\n"
   ]
  },
  {
   "cell_type": "markdown",
   "id": "7158910a-c7be-4517-83a0-8b0c9fc1d588",
   "metadata": {},
   "source": [
    "## Reversing Notes\n",
    "\n",
    "Arg1 is a sleep before reboot (in minutes)\n",
    "Arg2 is sleep before ??? (minutes minus the arg1 sleep)\n",
    "\n",
    "Grants itself `SeBackupPrivilege`, and `SeShutdownPrivilege`. [Note](https://docs.microsoft.com/en-us/windows-hardware/drivers/ifs/privileges), `SeBackupPrivilege` allows file content retrieval, even if the security descriptor on the file might not grant such access. \n",
    "\n",
    "\n",
    "If the host is Windows Vista and above they use one set of drivers (64/32bit). For XP they use a different set of drivers (32/64bit).\n",
    "\n",
    "Dissable crashdump using reg key `SYSTEM\\\\CurrentControlSet\\\\Control\\\\CrashControl\\\\CrashDumpEnabled`\n",
    "\n",
    "Possible driver communication via named pipe `\\\\.\\EPMNTDRV\\0`\n",
    "\n",
    "Write the driver from resource to `\\??\\c:\\Windows\\system32\\Drivers` as an mscompress file. Then copy and decompress it to another file with the same name and a `.sys` file extension. Then grant `SeLoadDriverPrivilege` priviledges to self and load driver.\n",
    "\n",
    "\n"
   ]
  },
  {
   "cell_type": "code",
   "execution_count": null,
   "id": "9e0c7b94-4bd3-4410-8261-aa47b6168b09",
   "metadata": {},
   "outputs": [],
   "source": []
  },
  {
   "cell_type": "code",
   "execution_count": null,
   "id": "d8a1ac3f-011b-41c7-a99d-6cfc5d4f96fa",
   "metadata": {},
   "outputs": [],
   "source": []
  }
 ],
 "metadata": {
  "kernelspec": {
   "display_name": "Python 3",
   "language": "python",
   "name": "python3"
  },
  "language_info": {
   "codemirror_mode": {
    "name": "ipython",
    "version": 3
   },
   "file_extension": ".py",
   "mimetype": "text/x-python",
   "name": "python",
   "nbconvert_exporter": "python",
   "pygments_lexer": "ipython3",
   "version": "3.9.5"
  }
 },
 "nbformat": 4,
 "nbformat_minor": 5
}
