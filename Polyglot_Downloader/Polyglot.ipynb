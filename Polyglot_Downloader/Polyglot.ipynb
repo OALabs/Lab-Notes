{
 "cells": [
  {
   "cell_type": "markdown",
   "id": "c4f7d57b-bced-4dba-8c94-1992689ad6e1",
   "metadata": {},
   "source": [
    "# Reversing Unknown Polyglot JPG Downloader\n",
    "\n",
    "The sample originated as a message through wechat. The mawlare is currently unknown. Submissions to VirusTotal indicate that the original file name was `申博公司服务器采购表.exe` which roughly translates to `Shenbo company server purchase form.exe`\n",
    "\n",
    "Sample: `104bd2d33c119d007df2adbc571a3e8cfac722cf1f0b6156ba211f413905e9f4`\n",
    "\n",
    "\n",
    "When executed the sample downloads a polyglot jpg as a second stage from `http://43.129.168.248/xlb.jpg` \n",
    "\n",
    "Second Stage: `xlb.jpg` - `32fb33a87f5123e919eb416b2c95a98b2f4b367812a51758bb1daeaf114b6b50`\n",
    "\n",
    "\n",
    "Related samples on VirusTotal that download the same second stage.\n",
    "- [`天博独立站.bat` translating to `Tianbo Independent Station`](https://www.virustotal.com/gui/file/1e5693926f800e753850b433cc0726e10effa779850d02eba255bc02c45df744)\n",
    "- [`服务器预付表1docx.bat` translating to `Server Prepaid Form`](https://www.virustotal.com/gui/file/d060f61aeb14183a58c4758ce792b5e27da477151623ae42eb61d66d2b786fae/details)\n",
    "\n",
    "\n",
    "References:\n",
    "- [Malshare Sample - Stage 1](https://malshare.com/sample.php?action=detail&hash=104bd2d33c119d007df2adbc571a3e8cfac722cf1f0b6156ba211f413905e9f4)\n",
    "- [Malshare Sample - Stage 2 (jpg)](https://malshare.com/sample.php?action=detail&hash=32fb33a87f5123e919eb416b2c95a98b2f4b367812a51758bb1daeaf114b6b50)\n",
    "- [Malshare Sample - Stage 3 (not confirmed!) ](https://malshare.com/sample.php?action=detail&hash=7d47e5871efc4c079531513f29926d394922d7954701f34dc6244ea311d20969)"
   ]
  },
  {
   "cell_type": "markdown",
   "id": "430aed13-c5ff-45e2-b17e-a3ae0c2c7365",
   "metadata": {},
   "source": [
    "## Stage 1\n",
    "\n",
    "Download `http://43.129.168.248/xlb.jpg` -> `C:\\\\ProgramData\\\\xlb.jpg`\n",
    "\n",
    "Decrypt jpg starting at offset `83877` using `-6 ^ 0x78` for range `7176` then directly execute!\n"
   ]
  },
  {
   "cell_type": "code",
   "execution_count": 5,
   "id": "69e8a059-50c8-488c-bc4a-f27add360c4c",
   "metadata": {},
   "outputs": [
    {
     "data": {
      "text/plain": [
       "7176"
      ]
     },
     "execution_count": 5,
     "metadata": {},
     "output_type": "execute_result"
    }
   ],
   "source": [
    "import sys\n",
    "import os\n",
    "\n",
    "JPG_FILEPATH = r'/tmp/work/xlb.jpg'\n",
    "OUT_SHELLCODE_FILEPATH = r'/tmp/work/shellcode.bin'\n",
    "\n",
    "\n",
    "jpg_data = open(JPG_FILEPATH, 'rb').read()\n",
    "\n",
    "jpg_offset = 83877\n",
    "\n",
    "out = []\n",
    "for i in range(0,7176):\n",
    "    out.append(((jpg_data[jpg_offset+i] - 6) & 0xff) ^ 0x78)\n",
    "\n",
    "open(OUT_SHELLCODE_FILEPATH, 'wb').write(bytes(out))\n",
    "\n"
   ]
  },
  {
   "cell_type": "markdown",
   "id": "cb18ae0e-1eda-4c54-8cf8-24258c2f373d",
   "metadata": {},
   "source": [
    "# Stage 2\n",
    "\n",
    "Check mutex `ozhpanvityfxknsr` to ensure we are only running once.\n",
    "\n",
    "Check for a list of process names."
   ]
  },
  {
   "cell_type": "code",
   "execution_count": 10,
   "id": "87ab981d-95f3-4751-823b-7a6ee662e7f6",
   "metadata": {},
   "outputs": [
    {
     "name": "stdout",
     "output_type": "stream",
     "text": [
      "qq\n",
      "360\n",
      "sogou\n",
      "qidian\n",
      "telegram\n",
      "google\n",
      "wechat\n",
      "flyvpn\n",
      "et.exe\n",
      "wps\n",
      "msedge\n",
      "excel\n",
      "word\n",
      "point\n",
      "tray\n",
      "firefox\n",
      "sgtool\n",
      "cloud\n",
      "notepad\n",
      "calc\n",
      "zhudongfangyu\n",
      "line\n",
      "quickq\n"
     ]
    }
   ],
   "source": [
    "proc_names = ['rr','471','tphpv','rjejbo','ufmfhsbn','hpphmf','xfdibu','gmzwqo','fu/fyf','xqt','ntfehf','fydfm','xpse','qpjou','usbz','gjsfgpy','thuppm','dmpve','opufqbe','dbmd','{ivepohgbohzv','mjof','rvjdlr']\n",
    "\n",
    "for n in proc_names:\n",
    "    out = ''\n",
    "    for i in n:\n",
    "        out += chr((ord(i) -1)&0xff)\n",
    "    print(out)\n",
    "\n",
    "\n"
   ]
  },
  {
   "cell_type": "markdown",
   "id": "7e0f8db4-0f7b-4656-b428-8013ae9dc7d7",
   "metadata": {},
   "source": [
    "## C2 Comms\n",
    "\n",
    "The malware connect to the C2 via a TCP socket using a hardcoded IP and port `43.129.168.248:16166`\n",
    "\n",
    "The malware sendd the C2 the it's current module name and waits to receive data.\n",
    "\n",
    "The c2 return data is composed of a structure including a flag, length, xor key, data.\n",
    "\n",
    "```\n",
    "// DWORD flag\n",
    "// DWORD length\n",
    "// BYTE xor_key[32]\n",
    "// Data ...\n",
    "```\n",
    "\n",
    "The C2 data contains a **stage3** PE file that is reflectivly loaded into memory by the malware and executed via the export `PluginMe`\n"
   ]
  },
  {
   "cell_type": "markdown",
   "id": "edcef87c-04db-45bd-ae99-24220f38e4a2",
   "metadata": {},
   "source": [
    "## Stage 3\n",
    "\n",
    "Stage3 was not directly recovered from the download chain but was recovered as an artifact from the infected host. An **assumption was made that this was stage3** based on the unique export `PluginMe`.\n",
    "\n",
    "Sample: `7d47e5871efc4c079531513f29926d394922d7954701f34dc6244ea311d20969`\n"
   ]
  },
  {
   "cell_type": "code",
   "execution_count": null,
   "id": "385ed2a0-0749-446b-bf61-78f0baed928c",
   "metadata": {},
   "outputs": [],
   "source": []
  }
 ],
 "metadata": {
  "kernelspec": {
   "display_name": "Python 3",
   "language": "python",
   "name": "python3"
  },
  "language_info": {
   "codemirror_mode": {
    "name": "ipython",
    "version": 3
   },
   "file_extension": ".py",
   "mimetype": "text/x-python",
   "name": "python",
   "nbconvert_exporter": "python",
   "pygments_lexer": "ipython3",
   "version": "3.9.5"
  }
 },
 "nbformat": 4,
 "nbformat_minor": 5
}
